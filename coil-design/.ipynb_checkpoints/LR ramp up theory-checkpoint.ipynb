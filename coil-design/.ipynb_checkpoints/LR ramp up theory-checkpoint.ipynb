{
 "cells": [
  {
   "cell_type": "code",
   "execution_count": 3,
   "metadata": {
    "collapsed": true
   },
   "outputs": [],
   "source": [
    "%matplotlib inline   \n",
    "from pylab import *  # these make two lines matplotlib more matlab like, and smoother\n",
    "from scipy.integrate import odeint # ode solver for simulating Josephson Junctions\n",
    "from pint import UnitRegistry\n",
    "ureg = UnitRegistry()"
   ]
  },
  {
   "cell_type": "markdown",
   "metadata": {
    "collapsed": true
   },
   "source": []
  },
  {
   "cell_type": "markdown",
   "metadata": {},
   "source": [
    "$\\phi = LI$\n",
    "\n",
    "$V = \\dot{\\phi}$\n",
    "\n",
    "$\\phi(t) = \\int_0^t{V(t')dt'}$\n",
    "\n",
    "$I(t) = \\frac{1}{L}\\int_0^t{V(t')dt'}$"
   ]
  },
  {
   "cell_type": "markdown",
   "metadata": {},
   "source": [
    "by inspection:\n",
    "\n",
    "$I(t) = \\frac{V}{R}(1 - e^{-tR/L})$"
   ]
  },
  {
   "cell_type": "markdown",
   "metadata": {},
   "source": [
    "inductor, then a resistor then another resistor, all in series.  when transistor goes to on state, what happens?\n",
    "total voltage across the whole chain instantly goes from 0 V to $V_{cc}$, so the total voltage makes an instananeous jump but the voltage across the inductor changes with time(it has to approach zero).  But what does it start at? \n",
    "\n",
    "Initally total current is zero.  At infinity it will be $V/R_{total}$.  If we have a series circuit of $L$, $R_{inductor}$ and $R_{bias}$, and the V has jumped to $V_{cc}$, we get\n",
    "\n",
    "$V_{cc} = I(t)(R_{inductor} + R_{bias}) + L\\frac{dI(t)}{dt}$\n",
    "\n",
    "The solution to this differential equation is indeed the expected result from inspection above.  \n",
    "\n",
    "Thus the voltage on the bias resistor is \n",
    "\n",
    "$V_{bias} = \\frac{V_{cc}R_{bias}}{R_{inductor} + R_{bias}}(1 - e^{-t(R_{bias} + R_{inductor})/L})$\n",
    "\n",
    "Pulse the voltage and wait until it gets to equilibrium, then normalize the data to the start voltage to get\n",
    "\n",
    "$v = 1 - e^{-t(R_{bias} + R_{inductor})/L}$, \n",
    "\n",
    "then subtract from 1 and take the log to get \n",
    "\n",
    "$\\delta = -t(R_{bias} + R_{inductor})/L$\n"
   ]
  },
  {
   "cell_type": "code",
   "execution_count": 77,
   "metadata": {
    "collapsed": false
   },
   "outputs": [
    {
     "data": {
      "image/png": "[encoded data removed]",
      "text/plain": [
       "<matplotlib.figure.Figure at 0x108022450>"
      ]
     },
     "metadata": {},
     "output_type": "display_data"
    }
   ],
   "source": [
    "R = 3.3*ureg.ohms\n",
    "L = 0.001*ureg.henry\n",
    "V = 3.3*ureg.volts\n",
    "t = linspace(0,0.003,30)*ureg.seconds\n",
    "I = (V/R)*(1. - exp(-t*R/L))\n",
    "I.ito(ureg.amps)\n",
    "semilogy(t,ones(30)*ureg.amps - I,'o')\n",
    "grid()"
   ]
  },
  {
   "cell_type": "code",
   "execution_count": 74,
   "metadata": {
    "collapsed": false
   },
   "outputs": [
    {
     "name": "stdout",
     "output_type": "stream",
     "text": [
      "0.104004160166 millisecond\n"
     ]
    }
   ],
   "source": [
    "rate = 9615.0*ureg.Hz\n",
    "deltaT = 1.0/rate\n",
    "deltaT.ito(ureg.ms)\n",
    "print deltaT"
   ]
  },
  {
   "cell_type": "code",
   "execution_count": 47,
   "metadata": {
    "collapsed": false
   },
   "outputs": [
    {
     "data": {
      "text/plain": [
       "[<matplotlib.lines.Line2D at 0x10749d250>]"
      ]
     },
     "execution_count": 47,
     "metadata": {},
     "output_type": "execute_result"
    },
    {
     "data": {
      "image/png": "[encoded data removed]",
      "text/plain": [
       "<matplotlib.figure.Figure at 0x1072b9a90>"
      ]
     },
     "metadata": {},
     "output_type": "display_data"
    }
   ],
   "source": [
    "plot(I)"
   ]
  },
  {
   "cell_type": "markdown",
   "metadata": {
    "collapsed": true
   },
   "source": [
    "![alt text](RLcircuit.png \"RL circuit\")\n",
    "\n"
   ]
  },
  {
   "cell_type": "code",
   "execution_count": null,
   "metadata": {
    "collapsed": true
   },
   "outputs": [],
   "source": []
  }
 ],
 "metadata": {
  "kernelspec": {
   "display_name": "Python 2",
   "language": "python",
   "name": "python2"
  },
  "language_info": {
   "codemirror_mode": {
    "name": "ipython",
    "version": 2
   },
   "file_extension": ".py",
   "mimetype": "text/x-python",
   "name": "python",
   "nbconvert_exporter": "python",
   "pygments_lexer": "ipython2",
   "version": "2.7.10"
  }
 },
 "nbformat": 4,
 "nbformat_minor": 0
}
