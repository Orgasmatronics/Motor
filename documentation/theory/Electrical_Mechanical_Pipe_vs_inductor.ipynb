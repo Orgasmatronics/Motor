{
 "cells": [
  {
   "cell_type": "code",
   "execution_count": 1,
   "metadata": {
    "collapsed": true
   },
   "outputs": [],
   "source": [
    "%matplotlib inline\n",
    "from pylab import *\n",
    "from pint import UnitRegistry\n",
    "ureg = UnitRegistry()"
   ]
  },
  {
   "cell_type": "markdown",
   "metadata": {},
   "source": [
    "Energy of current flowing in a wire:\n",
    "\n",
    "$E = \\frac{1}{2}LI^2$\n",
    "\n",
    "Energy of mass moving in a pipe:\n",
    "\n",
    "$E = \\frac{1}{2}mv^2$"
   ]
  },
  {
   "cell_type": "markdown",
   "metadata": {},
   "source": [
    "volume in a cylindrical pipe:\n",
    "\n",
    "$V = A \\ell,$ where $A$ is pipe area and $\\ell$ is the length.  \n",
    "\n",
    "Mass:\n",
    "\n",
    "$m = \\rho V = \\rho A\\ell,$ where $\\rho$ is the mass density of the fluid."
   ]
  },
  {
   "cell_type": "markdown",
   "metadata": {},
   "source": [
    "The pipe equivalent of electrical current $I$ is mass current $J = \\dot{m}$\n",
    "\n",
    "The pipe equivalent of the voltage $V$ is the pressure difference $\\Delta P$"
   ]
  },
  {
   "cell_type": "markdown",
   "metadata": {},
   "source": [
    "$E = \\frac{1}{2}\\rho A\\ell v^2$\n",
    "\n",
    "$v = \\frac{J}{\\rho A}$"
   ]
  },
  {
   "cell_type": "markdown",
   "metadata": {},
   "source": [
    "$E = \\frac{1}{2}\\rho A \\ell \\left(\\frac{J}{\\rho A} \\right)^2$"
   ]
  },
  {
   "cell_type": "markdown",
   "metadata": {},
   "source": [
    "$E = \\frac{1}{2}\\ell \\frac{J^2}{\\rho A} = \\frac{1}{2}\\left(\\frac{\\ell}{\\rho A}\\right)J^2$"
   ]
  },
  {
   "cell_type": "markdown",
   "metadata": {},
   "source": [
    "So the equivalent of inductance is the quantity $\\frac{\\ell}{\\rho A} = \\frac{\\ell^2}{\\rho A\\ell} = \\frac{\\ell^2}{m}$....maybe\n",
    "\n",
    "Going back to electrical systems\n",
    "\n",
    "$\\Phi = LI$\n",
    "\n",
    "$V = \\dot{\\Phi}$\n",
    "\n",
    "what if we multiply by J? \n",
    "\n",
    "$\\frac{\\ell^2}{m}\\frac{m}{t}$ so voltage is replaced by something with units of velocity squared. "
   ]
  },
  {
   "cell_type": "markdown",
   "metadata": {},
   "source": [
    "all crap!!!  Just use the basic replacement where "
   ]
  },
  {
   "cell_type": "markdown",
   "metadata": {},
   "source": []
  }
 ],
 "metadata": {
  "kernelspec": {
   "display_name": "Python 2",
   "language": "python",
   "name": "python2"
  },
  "language_info": {
   "codemirror_mode": {
    "name": "ipython",
    "version": 2
   },
   "file_extension": ".py",
   "mimetype": "text/x-python",
   "name": "python",
   "nbconvert_exporter": "python",
   "pygments_lexer": "ipython2",
   "version": "2.7.10"
  }
 },
 "nbformat": 4,
 "nbformat_minor": 0
}
