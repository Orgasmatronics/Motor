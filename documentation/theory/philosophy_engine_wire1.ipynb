{
 "cells": [
  {
   "cell_type": "code",
   "execution_count": 2,
   "metadata": {
    "collapsed": true
   },
   "outputs": [],
   "source": [
    "%matplotlib inline\n",
    "from pylab import *"
   ]
  },
  {
   "cell_type": "code",
   "execution_count": 3,
   "metadata": {
    "collapsed": false
   },
   "outputs": [],
   "source": [
    "AWG = arange(40)+1\n",
    "diameter_inches = 0.005*92.**((36. - AWG)/39.)\n",
    "diameter_mils = 1000.*diameter_inches\n",
    "diameter_mm = diameter_mils*0.0254"
   ]
  },
  {
   "cell_type": "code",
   "execution_count": 4,
   "metadata": {
    "collapsed": false
   },
   "outputs": [],
   "source": [
    "sigma_copper = 1.72e-8 # 100% IACS, from wikipedia units = Ohm * m"
   ]
  },
  {
   "cell_type": "code",
   "execution_count": 5,
   "metadata": {
    "collapsed": false
   },
   "outputs": [],
   "source": [
    "area = pi*(0.5*diameter_mm*0.001)**2 #in square meters"
   ]
  },
  {
   "cell_type": "code",
   "execution_count": 6,
   "metadata": {
    "collapsed": false
   },
   "outputs": [],
   "source": [
    "R_per_meter = sigma_copper/area #resistance per meter\n",
    "R_per_cm = R_per_meter/100.0\n",
    "R_per_in = R_per_cm*2.54\n",
    "R_per_foot = R_per_in*12.0"
   ]
  },
  {
   "cell_type": "code",
   "execution_count": 15,
   "metadata": {
    "collapsed": false
   },
   "outputs": [
    {
     "data": {
      "text/plain": [
       "1174.0165551056286"
      ]
     },
     "execution_count": 15,
     "metadata": {},
     "output_type": "execute_result"
    }
   ],
   "source": [
    "5./R_per_cm[30]"
   ]
  },
  {
   "cell_type": "code",
   "execution_count": 34,
   "metadata": {
    "collapsed": false
   },
   "outputs": [
    {
     "data": {
      "text/plain": [
       "235.61417818657955"
      ]
     },
     "execution_count": 34,
     "metadata": {},
     "output_type": "execute_result"
    }
   ],
   "source": [
    "R = 1.0 #cm\n",
    "C = 2*pi*R\n",
    "C\n",
    "(5./R_per_cm[29])/C  #30 AWG, 5 ohms, 20 mm across"
   ]
  },
  {
   "cell_type": "markdown",
   "metadata": {
    "collapsed": false
   },
   "source": [
    "200 feet long"
   ]
  },
  {
   "cell_type": "code",
   "execution_count": 38,
   "metadata": {
    "collapsed": false
   },
   "outputs": [
    {
     "data": {
      "text/plain": [
       "1256.6370614359173"
      ]
     },
     "execution_count": 38,
     "metadata": {},
     "output_type": "execute_result"
    }
   ],
   "source": [
    "C*200"
   ]
  },
  {
   "cell_type": "code",
   "execution_count": 36,
   "metadata": {
    "collapsed": false
   },
   "outputs": [
    {
     "data": {
      "text/plain": [
       "3.5649460416732186"
      ]
     },
     "execution_count": 36,
     "metadata": {},
     "output_type": "execute_result"
    }
   ],
   "source": [
    "14*diameter_mm[29]"
   ]
  },
  {
   "cell_type": "markdown",
   "metadata": {},
   "source": [
    "square coil, 20 mm inner diameter, 3.6 mm X 3.6 mm for 14X14 units, 200 turns, 30 AWG copper wire."
   ]
  },
  {
   "cell_type": "markdown",
   "metadata": {},
   "source": [
    "1 tesla, 1 amp, 12 meters long wire, 1 cm amplitude, or +/- 5 mm, 20 Hz = 2.5 W or so, a couple pounds of force"
   ]
  },
  {
   "cell_type": "code",
   "execution_count": 7,
   "metadata": {
    "collapsed": true
   },
   "outputs": [],
   "source": [
    "m = [0,0,1.]"
   ]
  },
  {
   "cell_type": "code",
   "execution_count": 8,
   "metadata": {
    "collapsed": true
   },
   "outputs": [],
   "source": [
    "r = [1.,1.,1.]"
   ]
  },
  {
   "cell_type": "code",
   "execution_count": 9,
   "metadata": {
    "collapsed": false
   },
   "outputs": [
    {
     "data": {
      "text/plain": [
       "1.0"
      ]
     },
     "execution_count": 9,
     "metadata": {},
     "output_type": "execute_result"
    }
   ],
   "source": [
    "dot(r,m)"
   ]
  },
  {
   "cell_type": "markdown",
   "metadata": {},
   "source": [
    "$\\mathbf{B}({\\mathbf{r}})=\\nabla\\times{\\mathbf{A}}=\\frac{\\mu_{0}}{4\\pi}\\left(\\frac{3\\mathbf{r}(\\mathbf{m}\\cdot\\mathbf{r})}{r^{5}}-\\frac{{\\mathbf{m}}}{r^{3}}\\right).$"
   ]
  },
  {
   "cell_type": "markdown",
   "metadata": {},
   "source": [
    "$\\mathbf{B} \\cdot \\mathbf{\\hat{x}} = \\frac{\\mu_{0}}{4\\pi}\\left(\\frac{3\\mathbf{r}(\\mathbf{m}\\cdot\\mathbf{r})}{r^{5}}-\\frac{{\\mathbf{m}}}{r^{3}}\\right) \\cdot \\mathbf{\\hat{x}} = \\frac{\\mu_{0}}{4\\pi}\\left(\\frac{3\\mathbf{r}(\\mathbf{m}\\cdot\\mathbf{r})\\cdot\\mathbf{\\hat{x}}}{r^{5}}-\\frac{{\\mathbf{m}\\cdot \\mathbf{\\hat{x}}}}{r^{3}}\\right)$\n",
    "\n",
    "$\\mathbf{m} = [0,0,1]$\n",
    "\n",
    "$\\mathbf{r} = [x,0,z]$\n",
    "\n",
    "$\\mathbf{m}\\cdot\\mathbf{r} = z$\n",
    "\n",
    "$\\mathbf{m}\\cdot\\mathbf{\\hat{z}} = 1$\n",
    "\n",
    "$\\mathbf{r}\\cdot\\mathbf{\\hat{z}} = z$\n",
    "\n",
    "$\\mathbf{r}\\cdot\\mathbf{\\hat{x}} = x$\n",
    "\n",
    "$\\mathbf{m}\\cdot\\mathbf{\\hat{x}} = 0$\n"
   ]
  },
  {
   "cell_type": "markdown",
   "metadata": {},
   "source": [
    "$\\mathbf{r}(\\mathbf{m}\\cdot\\mathbf{r})\\cdot \\mathbf{\\hat{x}} = xz$\n"
   ]
  },
  {
   "cell_type": "markdown",
   "metadata": {},
   "source": [
    "$\\mathbf{B} \\cdot \\mathbf{x} = \\frac{\\mu_{0}}{4\\pi}\\left(\\frac{3xz}{r^5} \\right) = \\frac{\\mu_{0}}{4\\pi}\\left(\\frac{3xz}{(x^2 + z^2)^{5/2}} \\right)$"
   ]
  },
  {
   "cell_type": "markdown",
   "metadata": {},
   "source": [
    "$\\mathbf{B} \\cdot \\mathbf{z} = \\frac{\\mu_{0}}{4\\pi}\\left(\\frac{3z^2}{r^{5}}-\\frac{1}{r^{3}}\\right)$"
   ]
  },
  {
   "cell_type": "markdown",
   "metadata": {},
   "source": [
    "$\\frac{\\mu_{0}}{4\\pi}\\left(\\frac{3z^2}{r^{5}}-\\frac{1}{r^{3}}\\right)$"
   ]
  },
  {
   "cell_type": "markdown",
   "metadata": {},
   "source": [
    "So if we want to look at the relative values of the field(ignoreing actual magnitude), we can make all the prefactors 1 and just look at a scalar x component field\n",
    "\n",
    "$B_x  = \\frac{3xz}{r^5}$\n",
    "\n",
    "$B_z = \\frac{3z^2}{r^5} - \\frac{1}{r^5}$"
   ]
  },
  {
   "cell_type": "markdown",
   "metadata": {},
   "source": [
    "$\\frac{\\partial B_x}{\\partial x} = \\frac{zr^5 - 5xzr^4 \\partial r/\\partial x}{r^{10}}$"
   ]
  },
  {
   "cell_type": "markdown",
   "metadata": {},
   "source": [
    "$r = \\sqrt{x^2 + z^2}$\n",
    "\n",
    "$\\partial r /\\partial x = \\frac{1}{2}\\frac{2x}{\\sqrt{x^2 + z^2}} = \\frac{x}{r}$"
   ]
  },
  {
   "cell_type": "markdown",
   "metadata": {},
   "source": [
    "$\\frac{\\partial B_x}{\\partial x} = \\frac{zr^5 - 5xzr^4 \\partial r/\\partial x}{r^{10}} = \\frac{zr^5 - 5x^2zr^3}{r^{10}} =\\frac{zr^2 - 5x^2z}{r^{7}} = 0$\n",
    "\n",
    "$zr^2 = 5x^2z$\n",
    "\n",
    "$z(x^2 + z^2) = 5x^2z$\n",
    "\n",
    "$zx^2 + z^3) = 5x^2z$\n",
    "\n",
    "$z^3 = 4x^2z$\n",
    "\n",
    "$z^2 = 4x^2$\n",
    "\n",
    "$z = 2x$"
   ]
  },
  {
   "cell_type": "code",
   "execution_count": 37,
   "metadata": {
    "collapsed": false
   },
   "outputs": [
    {
     "data": {
      "text/plain": [
       "<matplotlib.colorbar.Colorbar instance at 0x128ebdea8>"
      ]
     },
     "execution_count": 37,
     "metadata": {},
     "output_type": "execute_result"
    },
    {
     "data": {
      "image/png": "[encoded data removed]",
      "text/plain": [
       "<matplotlib.figure.Figure at 0x129305850>"
      ]
     },
     "metadata": {},
     "output_type": "display_data"
    }
   ],
   "source": [
    "x = linspace(-1,1,1000)\n",
    "z = linspace(-0.5,1,1000)\n",
    "(X,Z) = meshgrid(x,z)\n",
    "\n",
    "r = sqrt(X**2 + Z**2)\n",
    "B_x = 3*X*Z/r**5\n",
    "B_z = 3*Z**2/r**5 - 1./r**3\n",
    "\n",
    "r2 = sqrt(X**2 + (Z-0.5)**2)\n",
    "B_x2 = 3*X*(Z-0.5)/r2**5\n",
    "B_z2 = 3*(Z-0.5)**2/r2**5 - 1./r2**3\n",
    "\n",
    "figure(figsize = (4,4))\n",
    "#streamplot(X,Z,B_x,B_z)\n",
    "levels = linspace(-10,10,100)\n",
    "contourf(X,Z,B_x,levels)\n",
    "colorbar()\n",
    "#contourf(X,Z,B_x,100)"
   ]
  },
  {
   "cell_type": "code",
   "execution_count": 11,
   "metadata": {
    "collapsed": false
   },
   "outputs": [
    {
     "data": {
      "image/png": "[encoded data removed]",
      "text/plain": [
       "<matplotlib.figure.Figure at 0x10a4be750>"
      ]
     },
     "metadata": {},
     "output_type": "display_data"
    }
   ],
   "source": [
    "plot(log10(z[510:]),log10(B_x[510:,500]),'o');grid()"
   ]
  },
  {
   "cell_type": "code",
   "execution_count": null,
   "metadata": {
    "collapsed": false
   },
   "outputs": [],
   "source": [
    "z[500]"
   ]
  },
  {
   "cell_type": "code",
   "execution_count": 39,
   "metadata": {
    "collapsed": false
   },
   "outputs": [
    {
     "data": {
      "text/plain": [
       "[-0.3, 0.3, 0, 0.5]"
      ]
     },
     "execution_count": 39,
     "metadata": {},
     "output_type": "execute_result"
    },
    {
     "data": {
      "image/png": "[encoded data removed]",
      "text/plain": [
       "<matplotlib.figure.Figure at 0x1292e3b10>"
      ]
     },
     "metadata": {},
     "output_type": "display_data"
    }
   ],
   "source": [
    "streamplot(X,Z,B_x + B_x2,B_z + B_z2)\n",
    "axis([-.3,.3,0,.5])"
   ]
  },
  {
   "cell_type": "markdown",
   "metadata": {},
   "source": [
    "$\\mathbf{B} \\cdot \\mathbf{x} = \\frac{\\mu_{0}|m|}{4\\pi}\\left(\\frac{3xz}{r^5} \\right)$\n",
    "\n",
    "$\\mathbf{B} \\cdot \\mathbf{z} = \\frac{\\mu_{0}|m|}{4\\pi}\\left(\\frac{3z^2}{r^{5}}-\\frac{1}{r^{3}}\\right)$\n",
    "\n",
    "$\\mathbf{F_{total}} = I\\int \\mathrm{d}\\mathbf{\\ell}\\times \\mathbf{B} = 2\\pi xIB_x \\hat{\\mathbf{z}}$\n"
   ]
  },
  {
   "cell_type": "markdown",
   "metadata": {},
   "source": [
    "$|F_{total}|= \\frac{\\mu_{0}I|m|}{2}\\left(\\frac{3x^2z}{r^5} \\right)$"
   ]
  },
  {
   "cell_type": "code",
   "execution_count": 14,
   "metadata": {
    "collapsed": false
   },
   "outputs": [],
   "source": [
    "Bmag = sqrt(B_x**2 + B_z**2)"
   ]
  },
  {
   "cell_type": "code",
   "execution_count": 24,
   "metadata": {
    "collapsed": false
   },
   "outputs": [
    {
     "data": {
      "text/plain": [
       "<matplotlib.contour.QuadContourSet instance at 0x114e7def0>"
      ]
     },
     "execution_count": 24,
     "metadata": {},
     "output_type": "execute_result"
    },
    {
     "data": {
      "image/png": "[encoded data removed]",
      "text/plain": [
       "<matplotlib.figure.Figure at 0x114e47210>"
      ]
     },
     "metadata": {},
     "output_type": "display_data"
    }
   ],
   "source": [
    "figure(figsize = (4,4))\n",
    "levels = linspace(-5,5,100)\n",
    "contourf(X,Z,log10(Bmag),levels)"
   ]
  },
  {
   "cell_type": "code",
   "execution_count": 28,
   "metadata": {
    "collapsed": false
   },
   "outputs": [
    {
     "data": {
      "text/plain": [
       "[<matplotlib.lines.Line2D at 0x116c3d4d0>]"
      ]
     },
     "execution_count": 28,
     "metadata": {},
     "output_type": "execute_result"
    },
    {
     "data": {
      "image/png": "[encoded data removed]",
      "text/plain": [
       "<matplotlib.figure.Figure at 0x116b2bb50>"
      ]
     },
     "metadata": {},
     "output_type": "display_data"
    }
   ],
   "source": [
    "plot(Bmag[501,511:])"
   ]
  },
  {
   "cell_type": "code",
   "execution_count": null,
   "metadata": {
    "collapsed": true
   },
   "outputs": [],
   "source": []
  }
 ],
 "metadata": {
  "kernelspec": {
   "display_name": "Python 2",
   "language": "python",
   "name": "python2"
  },
  "language_info": {
   "codemirror_mode": {
    "name": "ipython",
    "version": 2
   },
   "file_extension": ".py",
   "mimetype": "text/x-python",
   "name": "python",
   "nbconvert_exporter": "python",
   "pygments_lexer": "ipython2",
   "version": "2.7.10"
  }
 },
 "nbformat": 4,
 "nbformat_minor": 0
}
