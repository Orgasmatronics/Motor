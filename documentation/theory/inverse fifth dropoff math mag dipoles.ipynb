{
 "cells": [
  {
   "cell_type": "code",
   "execution_count": 1,
   "metadata": {
    "collapsed": true
   },
   "outputs": [],
   "source": [
    "%matplotlib inline\n",
    "from pylab import *"
   ]
  },
  {
   "cell_type": "code",
   "execution_count": 4,
   "metadata": {
    "collapsed": true
   },
   "outputs": [],
   "source": [
    "x = arange(256)"
   ]
  },
  {
   "cell_type": "code",
   "execution_count": 19,
   "metadata": {
    "collapsed": false
   },
   "outputs": [
    {
     "name": "stderr",
     "output_type": "stream",
     "text": [
      "/Users/lafespietz/anaconda/lib/python2.7/site-packages/ipykernel/__main__.py:1: RuntimeWarning: divide by zero encountered in log10\n",
      "  if __name__ == '__main__':\n"
     ]
    },
    {
     "data": {
      "image/png": "[encoded data removed]",
      "text/plain": [
       "<matplotlib.figure.Figure at 0x106751590>"
      ]
     },
     "metadata": {},
     "output_type": "display_data"
    }
   ],
   "source": [
    "y = floor(255*log10(x)/max(log10(x)))\n",
    "plot(x,y);grid()"
   ]
  },
  {
   "cell_type": "code",
   "execution_count": 42,
   "metadata": {
    "collapsed": false
   },
   "outputs": [
    {
     "name": "stderr",
     "output_type": "stream",
     "text": [
      "/Users/lafespietz/anaconda/lib/python2.7/site-packages/ipykernel/__main__.py:3: RuntimeWarning: divide by zero encountered in power\n",
      "  app.launch_new_instance()\n"
     ]
    },
    {
     "data": {
      "text/plain": [
       "array([   0.,    0.,   49.,   75.,   92.,  105.,  115.,  123.,  129.,\n",
       "        135.,  140.,  145.,  149.,  153.,  156.,  159.,  162.,  165.,\n",
       "        167.,  169.,  172.,  174.,  175.,  177.,  179.,  181.,  182.,\n",
       "        184.,  185.,  187.,  188.,  189.,  190.,  191.,  193.,  194.,\n",
       "        195.,  196.,  197.,  198.,  199.,  200.,  200.,  201.,  202.,\n",
       "        203.,  204.,  204.,  205.,  206.,  207.,  207.,  208.,  209.,\n",
       "        209.,  210.,  210.,  211.,  212.,  212.,  213.,  213.,  214.,\n",
       "        214.,  215.,  215.,  216.,  216.,  217.,  217.,  218.,  218.,\n",
       "        219.,  219.,  220.,  220.,  221.,  221.,  221.,  222.,  222.,\n",
       "        223.,  223.,  223.,  224.,  224.,  224.,  225.,  225.,  226.,\n",
       "        226.,  226.,  227.,  227.,  227.,  228.,  228.,  228.,  228.,\n",
       "        229.,  229.,  229.,  230.,  230.,  230.,  231.,  231.,  231.,\n",
       "        231.,  232.,  232.,  232.,  232.,  233.,  233.,  233.,  234.,\n",
       "        234.,  234.,  234.,  235.,  235.,  235.,  235.,  235.,  236.,\n",
       "        236.,  236.,  236.,  237.,  237.,  237.,  237.,  237.,  238.,\n",
       "        238.,  238.,  238.,  239.,  239.,  239.,  239.,  239.,  240.,\n",
       "        240.,  240.,  240.,  240.,  241.,  241.,  241.,  241.,  241.,\n",
       "        241.,  242.,  242.,  242.,  242.,  242.,  242.,  243.,  243.,\n",
       "        243.,  243.,  243.,  244.,  244.,  244.,  244.,  244.,  244.,\n",
       "        244.,  245.,  245.,  245.,  245.,  245.,  245.,  246.,  246.,\n",
       "        246.,  246.,  246.,  246.,  246.,  247.,  247.,  247.,  247.,\n",
       "        247.,  247.,  247.,  248.,  248.,  248.,  248.,  248.,  248.,\n",
       "        248.,  249.,  249.,  249.,  249.,  249.,  249.,  249.,  249.,\n",
       "        250.,  250.,  250.,  250.,  250.,  250.,  250.,  250.,  251.,\n",
       "        251.,  251.,  251.,  251.,  251.,  251.,  251.,  252.,  252.,\n",
       "        252.,  252.,  252.,  252.,  252.,  252.,  252.,  253.,  253.,\n",
       "        253.,  253.,  253.,  253.,  253.,  253.,  253.,  254.,  254.,\n",
       "        254.,  254.,  254.,  254.,  254.,  254.,  254.,  254.,  255.,\n",
       "        255.,  255.,  255.,  255.])"
      ]
     },
     "execution_count": 42,
     "metadata": {},
     "output_type": "execute_result"
    },
    {
     "data": {
      "image/png": "[encoded data removed]",
      "text/plain": [
       "<matplotlib.figure.Figure at 0x107046650>"
      ]
     },
     "metadata": {},
     "output_type": "display_data"
    }
   ],
   "source": [
    "# magnetic dipoles drop off as 1/r^5, so a fifth root brings that to 1/r\n",
    "\n",
    "y = around(255.0*(1. - x**(-0.2))/0.67)\n",
    "y[0] = 0\n",
    "plot(x,y);grid()\n",
    "y"
   ]
  },
  {
   "cell_type": "markdown",
   "metadata": {},
   "source": [
    "Energy volume density is $u = \\frac{1}{2}\\frac{B^2}{\\mu}$ "
   ]
  },
  {
   "cell_type": "markdown",
   "metadata": {},
   "source": [
    "one Guass, in vacuum, is 4 mJ/m$^3$ = 4 pJ/mm$^3$"
   ]
  },
  {
   "cell_type": "code",
   "execution_count": null,
   "metadata": {
    "collapsed": true
   },
   "outputs": [],
   "source": []
  }
 ],
 "metadata": {
  "kernelspec": {
   "display_name": "Python 2",
   "language": "python",
   "name": "python2"
  },
  "language_info": {
   "codemirror_mode": {
    "name": "ipython",
    "version": 2
   },
   "file_extension": ".py",
   "mimetype": "text/x-python",
   "name": "python",
   "nbconvert_exporter": "python",
   "pygments_lexer": "ipython2",
   "version": "2.7.10"
  }
 },
 "nbformat": 4,
 "nbformat_minor": 0
}
