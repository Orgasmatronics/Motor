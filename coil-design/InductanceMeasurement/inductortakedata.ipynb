{
 "cells": [
  {
   "cell_type": "code",
   "execution_count": 1,
   "metadata": {
    "collapsed": true
   },
   "outputs": [],
   "source": [
    "%matplotlib inline\n",
    "from pylab import *\n",
    "import serial"
   ]
  },
  {
   "cell_type": "code",
   "execution_count": 59,
   "metadata": {
    "collapsed": false
   },
   "outputs": [],
   "source": [
    "SERIAL_PORT = \"com15\"#PC\n",
    "ser = serial.Serial( SERIAL_PORT, timeout=10.0 )\n",
    "ser.setBaudrate(115200)"
   ]
  },
  {
   "cell_type": "code",
   "execution_count": 57,
   "metadata": {
    "collapsed": false
   },
   "outputs": [],
   "source": [
    "ser.close()\n"
   ]
  },
  {
   "cell_type": "code",
   "execution_count": 58,
   "metadata": {
    "collapsed": false
   },
   "outputs": [
    {
     "ename": "SerialException",
     "evalue": "could not open port 'com15': WindowsError(2, 'The system cannot find the file specified.')",
     "output_type": "error",
     "traceback": [
      "\u001b[1;31m---------------------------------------------------------------------------\u001b[0m",
      "\u001b[1;31mSerialException\u001b[0m                           Traceback (most recent call last)",
      "\u001b[1;32m<ipython-input-58-9b8068ea6182>\u001b[0m in \u001b[0;36m<module>\u001b[1;34m()\u001b[0m\n\u001b[1;32m----> 1\u001b[1;33m \u001b[0mser\u001b[0m\u001b[1;33m.\u001b[0m\u001b[0mopen\u001b[0m\u001b[1;33m(\u001b[0m\u001b[1;33m)\u001b[0m\u001b[1;33m\u001b[0m\u001b[0m\n\u001b[0m",
      "\u001b[1;32mC:\\Users\\Lafe\\Anaconda\\lib\\site-packages\\serial\\serialwin32.pyc\u001b[0m in \u001b[0;36mopen\u001b[1;34m(self)\u001b[0m\n\u001b[0;32m     64\u001b[0m         \u001b[1;32mif\u001b[0m \u001b[0mself\u001b[0m\u001b[1;33m.\u001b[0m\u001b[0mhComPort\u001b[0m \u001b[1;33m==\u001b[0m \u001b[0mwin32\u001b[0m\u001b[1;33m.\u001b[0m\u001b[0mINVALID_HANDLE_VALUE\u001b[0m\u001b[1;33m:\u001b[0m\u001b[1;33m\u001b[0m\u001b[0m\n\u001b[0;32m     65\u001b[0m             \u001b[0mself\u001b[0m\u001b[1;33m.\u001b[0m\u001b[0mhComPort\u001b[0m \u001b[1;33m=\u001b[0m \u001b[0mNone\u001b[0m    \u001b[1;31m# 'cause __del__ is called anyway\u001b[0m\u001b[1;33m\u001b[0m\u001b[0m\n\u001b[1;32m---> 66\u001b[1;33m             \u001b[1;32mraise\u001b[0m \u001b[0mSerialException\u001b[0m\u001b[1;33m(\u001b[0m\u001b[1;34m\"could not open port %r: %r\"\u001b[0m \u001b[1;33m%\u001b[0m \u001b[1;33m(\u001b[0m\u001b[0mself\u001b[0m\u001b[1;33m.\u001b[0m\u001b[0mportstr\u001b[0m\u001b[1;33m,\u001b[0m \u001b[0mctypes\u001b[0m\u001b[1;33m.\u001b[0m\u001b[0mWinError\u001b[0m\u001b[1;33m(\u001b[0m\u001b[1;33m)\u001b[0m\u001b[1;33m)\u001b[0m\u001b[1;33m)\u001b[0m\u001b[1;33m\u001b[0m\u001b[0m\n\u001b[0m\u001b[0;32m     67\u001b[0m \u001b[1;33m\u001b[0m\u001b[0m\n\u001b[0;32m     68\u001b[0m         \u001b[1;32mtry\u001b[0m\u001b[1;33m:\u001b[0m\u001b[1;33m\u001b[0m\u001b[0m\n",
      "\u001b[1;31mSerialException\u001b[0m: could not open port 'com15': WindowsError(2, 'The system cannot find the file specified.')"
     ]
    }
   ],
   "source": [
    "ser.open()"
   ]
  },
  {
   "cell_type": "code",
   "execution_count": 21,
   "metadata": {
    "collapsed": false
   },
   "outputs": [],
   "source": [
    "def stringToArray(string):\n",
    "    substring = ''\n",
    "    arrayFoo = []\n",
    "    for index in range(len(string)):\n",
    "        if string[index].isdigit() or string[index] == '-':\n",
    "            substring = substring + string[index]\n",
    "        if string[index] == ',' and index !=0:\n",
    "            arrayFoo.append(int(substring))\n",
    "            substring = '' \n",
    "    return array(arrayFoo)\n",
    "    print arrayFoo"
   ]
  },
  {
   "cell_type": "code",
   "execution_count": 31,
   "metadata": {
    "collapsed": false
   },
   "outputs": [
    {
     "name": "stdout",
     "output_type": "stream",
     "text": [
      "[1023  833  720  665  629  607  596  590  590  589  588  582  582  586  588\n",
      "  588  587  586  583  587  588  588  587  586  585  588  589  588  579]\n",
      "9028\n"
     ]
    }
   ],
   "source": [
    "ser.flushInput()\n",
    "x = ser.readline()\n",
    "y = stringToArray(x)\n",
    "deltaT = int(ser.readline())\n",
    "print y\n",
    "print deltaT"
   ]
  },
  {
   "cell_type": "code",
   "execution_count": 25,
   "metadata": {
    "collapsed": false
   },
   "outputs": [
    {
     "name": "stdout",
     "output_type": "stream",
     "text": [
      "[2046 1670 1444 1318 1254 1210 1188 1178 1182 1174 1170 1176 1176 1176 1174\n",
      " 1172 1170 1174 1176 1176 1174 1172 1170 1170 1178 1176 1174 1174 1180]\n"
     ]
    }
   ],
   "source": []
  },
  {
   "cell_type": "code",
   "execution_count": 60,
   "metadata": {
    "collapsed": false
   },
   "outputs": [
    {
     "name": "stdout",
     "output_type": "stream",
     "text": [
      "[1023  839  726  669  630  607  595  589  590  587  585  584  587  586  584\n",
      "  588  587  585  584  587  587  586  588  585  585  586  587  590  590]\n",
      "9028\n",
      "[2046 1682 1448 1336 1263 1218 1189 1182 1182 1178 1168 1172 1177 1170 1169\n",
      " 1178 1177 1174 1171 1173 1177 1175 1175 1174 1170 1175 1174 1176 1174]\n",
      "18052\n",
      "[3069 2516 2170 2001 1890 1822 1788 1777 1770 1764 1756 1758 1762 1753 1756\n",
      " 1768 1767 1761 1758 1763 1767 1759 1763 1764 1759 1761 1763 1766 1756]\n",
      "27088\n",
      "[4092 3357 2891 2669 2520 2432 2388 2370 2359 2356 2346 2346 2351 2339 2345\n",
      " 2356 2353 2345 2349 2350 2352 2343 2350 2354 2350 2350 2353 2355 2344]\n",
      "36100\n",
      "[5115 4195 3618 3336 3149 3038 2985 2963 2948 2942 2935 2933 2936 2923 2931\n",
      " 2945 2943 2930 2935 2940 2941 2931 2937 2938 2939 2938 2940 2945 2934]\n",
      "45120\n",
      "[6138 5029 4341 4001 3781 3648 3581 3557 3537 3527 3521 3520 3521 3506 3515\n",
      " 3531 3528 3513 3523 3526 3526 3515 3523 3527 3529 3521 3527 3535 3524]\n",
      "54148\n",
      "[7161 5866 5062 4670 4408 4253 4181 4152 4124 4116 4108 4106 4105 4090 4103\n",
      " 4121 4112 4097 4112 4116 4116 4103 4109 4117 4117 4108 4117 4124 4113]\n",
      "63176\n",
      "[8184 6707 5785 5340 5037 4858 4779 4746 4717 4707 4696 4692 4690 4674 4691\n",
      " 4711 4702 4679 4702 4707 4706 4691 4694 4700 4705 4694 4702 4712 4699]\n",
      "72192\n",
      "[9207 7547 6504 6008 5664 5469 5378 5339 5306 5293 5282 5280 5280 5264 5280\n",
      " 5302 5292 5268 5289 5293 5291 5274 5282 5286 5290 5277 5290 5302 5288]\n",
      "81212\n",
      "[10230  8388  7226  6672  6295  6076  5973  5929  5893  5883  5872  5869\n",
      "  5868  5852  5869  5891  5879  5854  5874  5875  5873  5861  5871  5869\n",
      "  5873  5865  5879  5890  5874]\n",
      "90232\n",
      "[11253  9228  7953  7342  6926  6684  6569  6524  6484  6471  6458  6459\n",
      "  6456  6439  6459  6481  6468  6441  6460  6459  6461  6448  6456  6456\n",
      "  6464  6457  6468  6475  6464]\n",
      "99248\n",
      "[12276 10063  8673  8005  7556  7293  7169  7119  7075  7059  7043  7042\n",
      "  7044  7025  7043  7064  7055  7032  7045  7047  7047  7033  7045  7044\n",
      "  7050  7042  7057  7063  7050]\n",
      "108292\n",
      "[13299 10903  9393  8670  8187  7902  7762  7710  7666  7649  7622  7631\n",
      "  7633  7607  7624  7651  7643  7619  7631  7632  7636  7621  7632  7629\n",
      "  7634  7624  7641  7648  7633]\n",
      "117308\n",
      "[14322 11737 10116  9336  8815  8507  8356  8301  8255  8234  8206  8219\n",
      "  8219  8192  8207  8236  8232  8209  8214  8217  8224  8205  8215  8216\n",
      "  8224  8208  8224  8236  8217]\n",
      "126344\n",
      "[15345 12573 10834  9997  9444  9113  8950  8889  8845  8821  8795  8808\n",
      "  8802  8778  8795  8825  8819  8794  8798  8805  8811  8791  8798  8802\n",
      "  8812  8797  8811  8822  8806]\n",
      "135364\n",
      "[16368 13410 11558 10665 10072  9717  9545  9484  9433  9406  9383  9392\n",
      "  9386  9361  9382  9415  9408  9380  9383  9395  9400  9379  9384  9387\n",
      "  9401  9385  9397  9412  9395]\n",
      "144384\n",
      "[17391 14242 12278 11328 10702 10324 10144 10080 10019  9995  9972  9975\n",
      "  9969  9947  9971  9999  9991  9966  9968  9980  9983  9966  9974  9977\n",
      "  9989  9973  9987 10001  9983]\n",
      "153412\n",
      "[18414 15083 13000 11992 11333 10933 10742 10675 10611 10578 10559 10564\n",
      " 10557 10533 10556 10583 10579 10553 10553 10563 10568 10553 10563 10560\n",
      " 10579 10564 10575 10587 10568]\n",
      "162432\n",
      "[19437 15923 13721 12658 11963 11540 11342 11267 11203 11170 11150 11153\n",
      " 11144 11118 11140 11169 11170 11138 11132 11151 11157 11142 11151 11146\n",
      " 11168 11153 11163 11174 11153]\n",
      "171452\n",
      "[20460 16763 14441 13324 12591 12150 11941 11859 11794 11761 11738 11739\n",
      " 11729 11703 11728 11757 11758 11727 11720 11738 11742 11726 11739 11734\n",
      " 11753 11737 11746 11762 11743]\n",
      "180468\n",
      "[21483 17601 15164 13989 13223 12758 12536 12449 12381 12349 12328 12328\n",
      " 12316 12290 12317 12345 12345 12313 12309 12326 12326 12314 12327 12322\n",
      " 12340 12326 12334 12350 12328]\n",
      "189496\n",
      "[22506 18438 15887 14654 13849 13366 13136 13039 12967 12938 12918 12913\n",
      " 12900 12877 12902 12929 12927 12901 12900 12916 12914 12903 12916 12910\n",
      " 12927 12909 12918 12934 12915]\n",
      "198516\n",
      "[23529 19277 16609 15319 14480 13970 13729 13628 13558 13528 13507 13500\n",
      " 13489 13466 13490 13515 13512 13485 13488 13502 13502 13493 13499 13495\n",
      " 13516 13498 13501 13520 13504]\n",
      "207552\n",
      "[24552 20118 17330 15985 15112 14581 14328 14221 14151 14120 14091 14088\n",
      " 14080 14051 14073 14103 14102 14075 14076 14089 14092 14083 14087 14082\n",
      " 14101 14081 14088 14106 14088]\n",
      "216568\n",
      "[25575 20954 18054 16653 15742 15188 14924 14811 14739 14710 14677 14678\n",
      " 14668 14637 14658 14686 14688 14665 14661 14672 14683 14675 14677 14669\n",
      " 14687 14671 14677 14693 14679]\n",
      "225592\n"
     ]
    },
    {
     "data": {
      "text/plain": [
       "[<matplotlib.lines.Line2D at 0xc85c668>]"
      ]
     },
     "execution_count": 60,
     "metadata": {},
     "output_type": "execute_result"
    },
    {
     "data": {
      "image/png": "[encoded data removed]",
      "text/plain": [
       "<matplotlib.figure.Figure at 0xc092f28>"
      ]
     },
     "metadata": {},
     "output_type": "display_data"
    }
   ],
   "source": [
    "ser.flushInput()\n",
    "x = ser.readline()\n",
    "y = stringToArray(x)\n",
    "deltaT = int(ser.readline())\n",
    "print y\n",
    "print deltaT\n",
    "for index in range(24):\n",
    "    ser.flushInput()\n",
    "    x = ser.readline()\n",
    "    y = y + stringToArray(x)\n",
    "    deltaT = deltaT + int(ser.readline())\n",
    "    print y\n",
    "    print deltaT\n",
    "plot(y)\n",
    "\n"
   ]
  },
  {
   "cell_type": "code",
   "execution_count": 61,
   "metadata": {
    "collapsed": false
   },
   "outputs": [
    {
     "data": {
      "text/plain": [
       "9.02368"
      ]
     },
     "execution_count": 61,
     "metadata": {},
     "output_type": "execute_result"
    }
   ],
   "source": [
    "deltaT/25.0/1000.0"
   ]
  },
  {
   "cell_type": "code",
   "execution_count": 50,
   "metadata": {
    "collapsed": false
   },
   "outputs": [
    {
     "data": {
      "text/plain": [
       "5.4"
      ]
     },
     "execution_count": 50,
     "metadata": {},
     "output_type": "execute_result"
    }
   ],
   "source": [
    "R = 2.3 + 3.1\n",
    "R"
   ]
  },
  {
   "cell_type": "code",
   "execution_count": 62,
   "metadata": {
    "collapsed": false
   },
   "outputs": [],
   "source": [
    "y = y/25.0"
   ]
  },
  {
   "cell_type": "code",
   "execution_count": 63,
   "metadata": {
    "collapsed": false
   },
   "outputs": [],
   "source": [
    "y = y - min(y)*ones(len(y))\n"
   ]
  },
  {
   "cell_type": "code",
   "execution_count": 64,
   "metadata": {
    "collapsed": false
   },
   "outputs": [],
   "source": [
    "y = y/max(y)"
   ]
  },
  {
   "cell_type": "code",
   "execution_count": 65,
   "metadata": {
    "collapsed": false
   },
   "outputs": [
    {
     "name": "stderr",
     "output_type": "stream",
     "text": [
      "C:\\Users\\Lafe\\Anaconda\\lib\\site-packages\\ipykernel\\__main__.py:1: RuntimeWarning: divide by zero encountered in log\n",
      "  if __name__ == '__main__':\n"
     ]
    },
    {
     "data": {
      "text/plain": [
       "[0, 10, -7, 0]"
      ]
     },
     "execution_count": 65,
     "metadata": {},
     "output_type": "execute_result"
    },
    {
     "data": {
      "image/png": "[encoded data removed]",
      "text/plain": [
       "<matplotlib.figure.Figure at 0xc733ac8>"
      ]
     },
     "metadata": {},
     "output_type": "display_data"
    }
   ],
   "source": [
    "plot(log(y),'o')\n",
    "grid()\n",
    "axis([0,10,-7,0])"
   ]
  },
  {
   "cell_type": "code",
   "execution_count": 67,
   "metadata": {
    "collapsed": false
   },
   "outputs": [],
   "source": [
    "t  = linspace(0,deltaT/25.0/1000.0,len(y))"
   ]
  },
  {
   "cell_type": "code",
   "execution_count": 75,
   "metadata": {
    "collapsed": false
   },
   "outputs": [
    {
     "name": "stderr",
     "output_type": "stream",
     "text": [
      "C:\\Users\\Lafe\\Anaconda\\lib\\site-packages\\ipykernel\\__main__.py:1: RuntimeWarning: divide by zero encountered in log\n",
      "  if __name__ == '__main__':\n"
     ]
    },
    {
     "data": {
      "image/png": "[encoded data removed]",
      "text/plain": [
       "<matplotlib.figure.Figure at 0xce07a20>"
      ]
     },
     "metadata": {},
     "output_type": "display_data"
    }
   ],
   "source": [
    "plot(t,log(y),'o',t,-t/0.56, linewidth = 2)\n",
    "grid()\n",
    "axis([0,2.4,-5,0])\n",
    "xlabel('time [ms]',fontsize  = 16)\n",
    "ylabel('normalized log current',fontsize  = 16)\n",
    "title('L/R time = 0.56 ms',fontsize  = 16)\n",
    "#xkcd(scale = .5)\n",
    "grid()"
   ]
  },
  {
   "cell_type": "code",
   "execution_count": 78,
   "metadata": {
    "collapsed": false
   },
   "outputs": [
    {
     "data": {
      "text/plain": [
       "3.0240000000000005"
      ]
     },
     "execution_count": 78,
     "metadata": {},
     "output_type": "execute_result"
    }
   ],
   "source": [
    "L = R*0.56\n",
    "L"
   ]
  },
  {
   "cell_type": "code",
   "execution_count": 45,
   "metadata": {
    "collapsed": false
   },
   "outputs": [
    {
     "data": {
      "image/png": "[encoded data removed]",
      "text/plain": [
       "<matplotlib.figure.Figure at 0xc6d2668>"
      ]
     },
     "metadata": {},
     "output_type": "display_data"
    }
   ],
   "source": [
    "t = arange(len(y))*0.1\n",
    "plot(t,y,'o',t,448.0-750.0*t)\n",
    "axis([0,0.65,0,500])\n",
    "xlabel('time [ms]')\n",
    "ylabel('log(i0-i(t))')\n",
    "title('L/R time measurement')\n",
    "grid()"
   ]
  },
  {
   "cell_type": "code",
   "execution_count": null,
   "metadata": {
    "collapsed": false
   },
   "outputs": [],
   "source": [
    "ser.flushInput()\n",
    "x = ''\n",
    "for index in range(10000):\n",
    "    x = x+ ser.read()\n",
    "\n",
    "y =stringToArray(x)\n",
    "plot(y,'o')\n"
   ]
  },
  {
   "cell_type": "code",
   "execution_count": null,
   "metadata": {
    "collapsed": false
   },
   "outputs": [],
   "source": [
    "t = array(range(len(y[1700:])))\n",
    "z = y[1700:]\n",
    "z = array(z)/1023."
   ]
  },
  {
   "cell_type": "code",
   "execution_count": null,
   "metadata": {
    "collapsed": false
   },
   "outputs": [],
   "source": [
    "\n",
    "plot(t,log(z),'o',t,-t/700.)"
   ]
  },
  {
   "cell_type": "code",
   "execution_count": null,
   "metadata": {
    "collapsed": false
   },
   "outputs": [],
   "source": [
    "plot(log(y[1700:]),'o')"
   ]
  },
  {
   "cell_type": "code",
   "execution_count": null,
   "metadata": {
    "collapsed": false
   },
   "outputs": [],
   "source": [
    "plot(t,log(z),'o',t,6.93 - t/70.)\n",
    "axis([0,300,2,7])"
   ]
  },
  {
   "cell_type": "code",
   "execution_count": null,
   "metadata": {
    "collapsed": true
   },
   "outputs": [],
   "source": [
    "t = array(range(len(y[240:1000])))"
   ]
  },
  {
   "cell_type": "code",
   "execution_count": null,
   "metadata": {
    "collapsed": false
   },
   "outputs": [],
   "source": [
    "z = y[240:1000]"
   ]
  },
  {
   "cell_type": "code",
   "execution_count": null,
   "metadata": {
    "collapsed": false
   },
   "outputs": [],
   "source": [
    "log(1023)"
   ]
  },
  {
   "cell_type": "code",
   "execution_count": null,
   "metadata": {
    "collapsed": true
   },
   "outputs": [],
   "source": [
    "ser.close()"
   ]
  },
  {
   "cell_type": "raw",
   "metadata": {},
   "source": [
    "ser.open()"
   ]
  },
  {
   "cell_type": "code",
   "execution_count": null,
   "metadata": {
    "collapsed": true
   },
   "outputs": [],
   "source": [
    "ser.readline()"
   ]
  },
  {
   "cell_type": "code",
   "execution_count": null,
   "metadata": {
    "collapsed": true
   },
   "outputs": [],
   "source": [
    "y"
   ]
  },
  {
   "cell_type": "code",
   "execution_count": null,
   "metadata": {
    "collapsed": true
   },
   "outputs": [],
   "source": []
  }
 ],
 "metadata": {
  "kernelspec": {
   "display_name": "Python 2",
   "language": "python",
   "name": "python2"
  },
  "language_info": {
   "codemirror_mode": {
    "name": "ipython",
    "version": 2
   },
   "file_extension": ".py",
   "mimetype": "text/x-python",
   "name": "python",
   "nbconvert_exporter": "python",
   "pygments_lexer": "ipython2",
   "version": "2.7.9"
  }
 },
 "nbformat": 4,
 "nbformat_minor": 0
}
