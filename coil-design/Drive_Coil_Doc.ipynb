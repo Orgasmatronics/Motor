{
 "cells": [
  {
   "cell_type": "code",
   "execution_count": 2,
   "metadata": {
    "collapsed": true
   },
   "outputs": [],
   "source": [
    "%matplotlib inline\n",
    "from pylab import *\n",
    "from pint import UnitRegistry\n",
    "ureg = UnitRegistry()"
   ]
  },
  {
   "cell_type": "markdown",
   "metadata": {},
   "source": [
    "![alt text](coilcartoon.png \"Drive Coil Cartoon\")\n",
    "\n",
    "### Drive Coil documentation\n",
    "\n",
    "Above figure shows the names of the variables of the coil.  r is the inner radius, a is the square side of the cross section of the coil. There are a total of n turns.  $(a/d)^2 = n$ is the number of turns where d is the diameter of the wire.  The initial standard I'm using here is 24 AWG copper wires with thin polyimide insulation on them.\n",
    "\n"
   ]
  },
  {
   "cell_type": "code",
   "execution_count": 61,
   "metadata": {
    "collapsed": true
   },
   "outputs": [],
   "source": [
    "AWG = arange(40)+1\n",
    "diameter_inches = 0.005*92.**((36. - AWG)/39.)\n",
    "diameter_mils = 1000.*diameter_inches\n",
    "diameter_mm = diameter_mils*0.0254"
   ]
  },
  {
   "cell_type": "code",
   "execution_count": 62,
   "metadata": {
    "collapsed": false
   },
   "outputs": [
    {
     "data": {
      "text/plain": [
       "0.5105592270625724"
      ]
     },
     "execution_count": 62,
     "metadata": {},
     "output_type": "execute_result"
    }
   ],
   "source": [
    "diameter_mm[23]"
   ]
  },
  {
   "cell_type": "code",
   "execution_count": 63,
   "metadata": {
    "collapsed": true
   },
   "outputs": [],
   "source": [
    "n = (13.0/0.51)**2"
   ]
  },
  {
   "cell_type": "code",
   "execution_count": 64,
   "metadata": {
    "collapsed": false
   },
   "outputs": [
    {
     "data": {
      "text/plain": [
       "649.750096116878"
      ]
     },
     "execution_count": 64,
     "metadata": {},
     "output_type": "execute_result"
    }
   ],
   "source": [
    "n"
   ]
  },
  {
   "cell_type": "markdown",
   "metadata": {},
   "source": [
    "But the actual n is about 400 turns usually due to packing fraction below maximum.  So:"
   ]
  },
  {
   "cell_type": "code",
   "execution_count": 65,
   "metadata": {
    "collapsed": true
   },
   "outputs": [],
   "source": [
    "n = 400"
   ]
  },
  {
   "cell_type": "code",
   "execution_count": 66,
   "metadata": {
    "collapsed": true
   },
   "outputs": [],
   "source": [
    "a = 13.0*ureg.mm\n",
    "r = 0.5*23.0*ureg.mm"
   ]
  },
  {
   "cell_type": "code",
   "execution_count": 67,
   "metadata": {
    "collapsed": false
   },
   "outputs": [
    {
     "data": {
      "text/html": [
       "169.0 millimeter<sup>2</sup>"
      ],
      "text/latex": [
       "$169.0 millimeter^{2}$"
      ],
      "text/plain": [
       "<Quantity(169.0, 'millimeter ** 2')>"
      ]
     },
     "execution_count": 67,
     "metadata": {},
     "output_type": "execute_result"
    }
   ],
   "source": [
    "a**2"
   ]
  },
  {
   "cell_type": "markdown",
   "metadata": {
    "collapsed": true
   },
   "source": [
    "The average circumference is $2\\pi r = 2\\pi(r + \\frac{1}{2}a)$"
   ]
  },
  {
   "cell_type": "code",
   "execution_count": 68,
   "metadata": {
    "collapsed": false
   },
   "outputs": [],
   "source": [
    "c = 2*pi*(r + 0.5*a)"
   ]
  },
  {
   "cell_type": "code",
   "execution_count": 69,
   "metadata": {
    "collapsed": false
   },
   "outputs": [
    {
     "data": {
      "text/html": [
       "113.097335529 millimeter"
      ],
      "text/latex": [
       "$113.097335529 millimeter$"
      ],
      "text/plain": [
       "<Quantity(113.097335529, 'millimeter')>"
      ]
     },
     "execution_count": 69,
     "metadata": {},
     "output_type": "execute_result"
    }
   ],
   "source": [
    "c"
   ]
  },
  {
   "cell_type": "code",
   "execution_count": 70,
   "metadata": {
    "collapsed": false
   },
   "outputs": [
    {
     "name": "stdout",
     "output_type": "stream",
     "text": [
      "45.2389342117 meter\n",
      "148.42170017 foot\n"
     ]
    }
   ],
   "source": [
    "length = c*n\n",
    "length.ito(ureg.m)\n",
    "print length\n",
    "print length.to(ureg.feet)"
   ]
  },
  {
   "cell_type": "code",
   "execution_count": 71,
   "metadata": {
    "collapsed": true
   },
   "outputs": [],
   "source": [
    "AWG = arange(40)+1\n",
    "diameter_inches = 0.005*92.**((36. - AWG)/39.)\n",
    "diameter_mils = 1000.*diameter_inches\n",
    "diameter_mm = diameter_mils*0.0254\n",
    "sigma_copper = 1.72e-8 # 100% IACS, from wikipedia units = Ohm * m\n",
    "area = pi*(0.5*diameter_mm*0.001)**2 #in square meters\n",
    "R_per_meter = sigma_copper/area #resistance per meter\n",
    "R_per_cm = R_per_meter/100.0\n",
    "R_per_in = R_per_cm*2.54\n",
    "R_per_foot = R_per_in*12.0\n",
    "R_per_meter = R_per_meter*ureg.ohms/ureg.m"
   ]
  },
  {
   "cell_type": "code",
   "execution_count": 72,
   "metadata": {
    "collapsed": false
   },
   "outputs": [
    {
     "data": {
      "text/plain": [
       "24"
      ]
     },
     "execution_count": 72,
     "metadata": {},
     "output_type": "execute_result"
    }
   ],
   "source": [
    "AWG[23]"
   ]
  },
  {
   "cell_type": "code",
   "execution_count": null,
   "metadata": {
    "collapsed": false
   },
   "outputs": [],
   "source": []
  },
  {
   "cell_type": "code",
   "execution_count": 73,
   "metadata": {
    "collapsed": false
   },
   "outputs": [
    {
     "data": {
      "text/html": [
       "3.80065694954 ohm"
      ],
      "text/latex": [
       "$3.80065694954 ohm$"
      ],
      "text/plain": [
       "<Quantity(3.80065694954, 'ohm')>"
      ]
     },
     "execution_count": 73,
     "metadata": {},
     "output_type": "execute_result"
    }
   ],
   "source": [
    "R_per_meter[23]*length"
   ]
  },
  {
   "cell_type": "code",
   "execution_count": 74,
   "metadata": {
    "collapsed": false
   },
   "outputs": [
    {
     "name": "stdout",
     "output_type": "stream",
     "text": [
      "32.6164036527 ohm\n"
     ]
    }
   ],
   "source": [
    "L = ureg.henry*0.005\n",
    "C = ureg.microfarad*4.70\n",
    "print sqrt(L/C).to(ureg.ohms)"
   ]
  },
  {
   "cell_type": "code",
   "execution_count": 75,
   "metadata": {
    "collapsed": false
   },
   "outputs": [
    {
     "name": "stdout",
     "output_type": "stream",
     "text": [
      "1038.21237344 hertz\n"
     ]
    }
   ],
   "source": [
    "print (1/(2*pi))*(1.0/sqrt(L*C)).to(ureg.hertz)"
   ]
  },
  {
   "cell_type": "markdown",
   "metadata": {},
   "source": [
    "![alt text](LC_test_circuit_bb.png \"LC resonator test Cartoon\")"
   ]
  },
  {
   "cell_type": "code",
   "execution_count": 60,
   "metadata": {
    "collapsed": false
   },
   "outputs": [
    {
     "data": {
      "text/plain": [
       "u'/Users/lafespietz/Desktop/Motor/coil-design'"
      ]
     },
     "execution_count": 60,
     "metadata": {},
     "output_type": "execute_result"
    }
   ],
   "source": []
  },
  {
   "cell_type": "code",
   "execution_count": null,
   "metadata": {
    "collapsed": true
   },
   "outputs": [],
   "source": []
  }
 ],
 "metadata": {
  "kernelspec": {
   "display_name": "Python 2",
   "language": "python",
   "name": "python2"
  },
  "language_info": {
   "codemirror_mode": {
    "name": "ipython",
    "version": 2
   },
   "file_extension": ".py",
   "mimetype": "text/x-python",
   "name": "python",
   "nbconvert_exporter": "python",
   "pygments_lexer": "ipython2",
   "version": "2.7.10"
  }
 },
 "nbformat": 4,
 "nbformat_minor": 0
}
